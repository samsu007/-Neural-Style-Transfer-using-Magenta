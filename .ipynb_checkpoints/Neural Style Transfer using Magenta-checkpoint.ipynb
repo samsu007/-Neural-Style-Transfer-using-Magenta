{
 "cells": [
  {
   "cell_type": "code",
   "execution_count": 16,
   "metadata": {},
   "outputs": [],
   "source": [
    "import tensorflow as tf\n",
    "import os\n",
    "os.environ[\"TF_XLA_FLAGS\"]=\"--tf_xla_enable_xla_devices\""
   ]
  },
  {
   "cell_type": "code",
   "execution_count": 17,
   "metadata": {},
   "outputs": [],
   "source": [
    "content_path = tf.keras.utils.get_file('photo-1501820488136-72669149e0d4', \n",
    "                                       'https://images.unsplash.com/photo-1501820488136-72669149e0d4')\n",
    "\n",
    "style_path = tf.keras.utils.get_file('Vincent_van_gogh%2C_la_camera_da_letto%2C_1889%2C_02.jpg',\n",
    "                                     'https://upload.wikimedia.org/wikipedia/commons/8/8c/Vincent_van_gogh%2C_la_camera_da_letto%2C_1889%2C_02.jpg')"
   ]
  },
  {
   "cell_type": "code",
   "execution_count": 26,
   "metadata": {},
   "outputs": [],
   "source": [
    "# custom function for image scaling\n",
    "def img_scaler(image, max_dim=512):\n",
    "\n",
    "    # Casts a tensor to a new type.\n",
    "    original_shape = tf.cast(tf.shape(image)[:-1],tf.float32)\n",
    "    \n",
    "    # Creates a scale constant for the image\n",
    "    scale_ratio = max_dim/max(original_shape)\n",
    "    \n",
    "    # Casts a tensor to a new type.\n",
    "    new_shape = tf.cast(original_shape * scale_ratio,tf.int32)\n",
    "    \n",
    "    # Resizes the image based on the scaling constant generated above\n",
    "    return tf.image.resize(image,new_shape)"
   ]
  },
  {
   "cell_type": "code",
   "execution_count": 27,
   "metadata": {},
   "outputs": [],
   "source": [
    "# custom function for preprocessing image\n",
    "def load_image(path_to_img):\n",
    "    # Reads and outputs the entire contents of the input filename.\n",
    "    img = tf.io.read_file(path_to_img)\n",
    "    \n",
    "    # Detect whether an image is a BMP, GIF, JPEG, or PNG, and \n",
    "    # performs the appropriate operation to convert the input \n",
    "    # bytes string into a Tensor of type dtype\n",
    "    img = tf.image.decode_image(img, channels=3)\n",
    "    \n",
    "    # Convert image to dtype, scaling (MinMax Normalization) its values if needed.\n",
    "    img = tf.image.convert_image_dtype(img,tf.float32)\n",
    "    \n",
    "    # Scale the image using the custom function we created\n",
    "    img = img_scaler(img)\n",
    "    \n",
    "    \n",
    "    # Adds a fourth dimension to the Tensor because\n",
    "    # the model requires a 4-dimensional Tensor\n",
    "    return img[tf.newaxis, :]"
   ]
  },
  {
   "cell_type": "code",
   "execution_count": 28,
   "metadata": {},
   "outputs": [
    {
     "name": "stdout",
     "output_type": "stream",
     "text": [
      "tf.Tensor([3183. 4774.], shape=(2,), dtype=float32)\n",
      "tf.Tensor([2304. 3456.], shape=(2,), dtype=float32)\n"
     ]
    },
    {
     "data": {
      "text/plain": [
       "<tf.Tensor: shape=(1, 341, 512, 3), dtype=float32, numpy=\n",
       "array([[[[0.73825735, 0.71472794, 0.65198284],\n",
       "         [0.71206576, 0.68853635, 0.62579125],\n",
       "         [0.7194272 , 0.6958978 , 0.6331527 ],\n",
       "         ...,\n",
       "         [0.710089  , 0.6669518 , 0.5885204 ],\n",
       "         [0.69956183, 0.6564246 , 0.57481647],\n",
       "         [0.71158606, 0.6684488 , 0.59001744]],\n",
       "\n",
       "        [[0.712702  , 0.68917257, 0.6264275 ],\n",
       "         [0.7243843 , 0.7008549 , 0.6381098 ],\n",
       "         [0.72977996, 0.70625055, 0.64350545],\n",
       "         ...,\n",
       "         [0.71568054, 0.6725433 , 0.5941119 ],\n",
       "         [0.7038145 , 0.66957283, 0.58817625],\n",
       "         [0.71169186, 0.6803193 , 0.5979664 ]],\n",
       "\n",
       "        [[0.73280203, 0.7092726 , 0.6465275 ],\n",
       "         [0.7277209 , 0.7041915 , 0.6414464 ],\n",
       "         [0.7243195 , 0.7007901 , 0.638045  ],\n",
       "         ...,\n",
       "         [0.7221712 , 0.67903394, 0.6084457 ],\n",
       "         [0.7025152 , 0.6644287 , 0.58497536],\n",
       "         [0.72949415, 0.6863569 , 0.6157687 ]],\n",
       "\n",
       "        ...,\n",
       "\n",
       "        [[0.6872308 , 0.5387503 , 0.35572332],\n",
       "         [0.63699025, 0.4719539 , 0.30691752],\n",
       "         [0.65005934, 0.49150386, 0.31692514],\n",
       "         ...,\n",
       "         [0.21985295, 0.09975425, 0.06190258],\n",
       "         [0.30896536, 0.1411413 , 0.08851217],\n",
       "         [0.28500307, 0.12941177, 0.08298866]],\n",
       "\n",
       "        [[0.6855642 , 0.5306451 , 0.34829783],\n",
       "         [0.7136907 , 0.5508976 , 0.35779583],\n",
       "         [0.679034  , 0.5218173 , 0.3355507 ],\n",
       "         ...,\n",
       "         [0.26702994, 0.12510833, 0.07767693],\n",
       "         [0.30808762, 0.14534298, 0.0971363 ],\n",
       "         [0.34436846, 0.17674153, 0.11208925]],\n",
       "\n",
       "        [[0.74982876, 0.59349537, 0.38798556],\n",
       "         [0.7481342 , 0.5906156 , 0.386694  ],\n",
       "         [0.73954463, 0.58140737, 0.37617412],\n",
       "         ...,\n",
       "         [0.23131171, 0.10812207, 0.06498481],\n",
       "         [0.3280867 , 0.16824819, 0.10232665],\n",
       "         [0.2992223 , 0.15317175, 0.09095605]]]], dtype=float32)>"
      ]
     },
     "execution_count": 28,
     "metadata": {},
     "output_type": "execute_result"
    }
   ],
   "source": [
    "# Load the Content and Style Images\n",
    "\n",
    "content_image = load_image(content_path)\n",
    "style_image = load_image(style_path)\n",
    "\n",
    "content_image"
   ]
  },
  {
   "cell_type": "code",
   "execution_count": null,
   "metadata": {},
   "outputs": [],
   "source": []
  }
 ],
 "metadata": {
  "kernelspec": {
   "display_name": "Python 3",
   "language": "python",
   "name": "python3"
  },
  "language_info": {
   "codemirror_mode": {
    "name": "ipython",
    "version": 3
   },
   "file_extension": ".py",
   "mimetype": "text/x-python",
   "name": "python",
   "nbconvert_exporter": "python",
   "pygments_lexer": "ipython3",
   "version": "3.8.5"
  }
 },
 "nbformat": 4,
 "nbformat_minor": 4
}
